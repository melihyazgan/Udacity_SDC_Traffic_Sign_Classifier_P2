{
 "cells": [
  {
   "cell_type": "markdown",
   "metadata": {},
   "source": [
    "# Self-Driving Car Engineer Nanodegree\n",
    "\n",
    "## Deep Learning\n",
    "\n",
    "## Project: Build a Traffic Sign Recognition Classifier\n",
    "\n",
    "In this notebook, a template is provided for you to implement your functionality in stages, which is required to successfully complete this project. If additional code is required that cannot be included in the notebook, be sure that the Python code is successfully imported and included in your submission if necessary. \n",
    "\n",
    "> **Note**: Once you have completed all of the code implementations, you need to finalize your work by exporting the iPython Notebook as an HTML document. Before exporting the notebook to html, all of the code cells need to have been run so that reviewers can see the final implementation and output. You can then export the notebook by using the menu above and navigating to  \\n\",\n",
    "    \"**File -> Download as -> HTML (.html)**. Include the finished document along with this notebook as your submission. \n",
    "\n",
    "In addition to implementing code, there is a writeup to complete. The writeup should be completed in a separate file, which can be either a markdown file or a pdf document. There is a [write up template](https://github.com/udacity/CarND-Traffic-Sign-Classifier-Project/blob/master/writeup_template.md) that can be used to guide the writing process. Completing the code template and writeup template will cover all of the [rubric points](https://review.udacity.com/#!/rubrics/481/view) for this project.\n",
    "\n",
    "The [rubric](https://review.udacity.com/#!/rubrics/481/view) contains \"Stand Out Suggestions\" for enhancing the project beyond the minimum requirements. The stand out suggestions are optional. If you decide to pursue the \"stand out suggestions\", you can include the code in this Ipython notebook and also discuss the results in the writeup file.\n",
    "\n",
    "\n",
    ">**Note:** Code and Markdown cells can be executed using the **Shift + Enter** keyboard shortcut. In addition, Markdown cells can be edited by typically double-clicking the cell to enter edit mode."
   ]
  },
  {
   "cell_type": "markdown",
   "metadata": {},
   "source": [
    "---\n",
    "## Step 0: Load The Data"
   ]
  },
  {
   "cell_type": "code",
   "execution_count": null,
   "metadata": {},
   "outputs": [],
   "source": [
    "# Load pickled data\n",
    "import pickle\n",
    "import numpy as np\n",
    "import matplotlib.pyplot as plt\n",
    "import pandas as pd\n",
    "import random as rnd\n",
    "import cv2\n",
    "from sklearn.utils import shuffle\n",
    "from sklearn.model_selection import train_test_split\n",
    "import tensorflow as tf\n",
    "%matplotlib inline"
   ]
  },
  {
   "cell_type": "code",
   "execution_count": null,
   "metadata": {
    "collapsed": true
   },
   "outputs": [],
   "source": [
    "# TODO: Fill this in based on where you saved the training and testing data\n",
    "\n",
    "training_file = ('./traffic-signs-data/train.p')\n",
    "validation_file=('./traffic-signs-data/valid.p')\n",
    "testing_file = ('./traffic-signs-data/test.p')\n",
    "\n",
    "with open(training_file, mode='rb') as f:\n",
    "    train = pickle.load(f)\n",
    "with open(validation_file, mode='rb') as f:\n",
    "    valid = pickle.load(f)\n",
    "with open(testing_file, mode='rb') as f:\n",
    "    test = pickle.load(f)\n",
    "    \n",
    "X_train, y_train = train['features'], train['labels']\n",
    "X_valid, y_valid = valid['features'], valid['labels']\n",
    "X_train = np.vstack((X_train[0:], X_valid[0:]))\n",
    "y_train = np.hstack((y_train, y_valid))\n",
    "X_test, y_test = test['features'], test['labels']"
   ]
  },
  {
   "cell_type": "markdown",
   "metadata": {},
   "source": [
    "---\n",
    "\n",
    "## Step 1: Dataset Summary & Exploration\n",
    "\n",
    "The pickled data is a dictionary with 4 key/value pairs:\n",
    "\n",
    "- `'features'` is a 4D array containing raw pixel data of the traffic sign images, (num examples, width, height, channels).\n",
    "- `'labels'` is a 1D array containing the label/class id of the traffic sign. The file `signnames.csv` contains id -> name mappings for each id.\n",
    "- `'sizes'` is a list containing tuples, (width, height) representing the original width and height the image.\n",
    "- `'coords'` is a list containing tuples, (x1, y1, x2, y2) representing coordinates of a bounding box around the sign in the image. **THESE COORDINATES ASSUME THE ORIGINAL IMAGE. THE PICKLED DATA CONTAINS RESIZED VERSIONS (32 by 32) OF THESE IMAGES**\n",
    "\n",
    "Complete the basic data summary below. Use python, numpy and/or pandas methods to calculate the data summary rather than hard coding the results. For example, the [pandas shape method](http://pandas.pydata.org/pandas-docs/stable/generated/pandas.DataFrame.shape.html) might be useful for calculating some of the summary results. "
   ]
  },
  {
   "cell_type": "markdown",
   "metadata": {},
   "source": [
    "### Provide a Basic Summary of the Data Set Using Python, Numpy and/or Pandas"
   ]
  },
  {
   "cell_type": "code",
   "execution_count": null,
   "metadata": {
    "collapsed": true
   },
   "outputs": [],
   "source": [
    "### Replace each question mark with the appropriate value. \n",
    "### Use python, pandas or numpy methods rather than hard coding the results\n",
    "import numpy as np\n",
    "# TODO: Number of training examples\n",
    "n_train = X_train.shape[0]\n",
    "# TODO: Number of validation examples\n",
    "#n_validation = X_valid.shape[0]\n",
    "\n",
    "# TODO: Number of testing examples.\n",
    "n_test = X_test.shape[0]\n",
    "\n",
    "# TODO: What's the shape of an traffic sign image?\n",
    "image_shape = X_train.shape[1:]\n",
    "\n",
    "# TODO: How many unique classes/labels there are in the dataset.\n",
    "n_classes = len(np.unique(y_train))\n",
    "\n",
    "print(\"Number of training examples = {}, Labels {}\".format(n_train,y_train.shape[0]))\n",
    "print(\"Number of testing examples =\", n_test)\n",
    "print(\"Image data shape =\", image_shape)\n",
    "print(\"Number of classes =\", n_classes)"
   ]
  },
  {
   "cell_type": "markdown",
   "metadata": {},
   "source": [
    "### Include an exploratory visualization of the dataset"
   ]
  },
  {
   "cell_type": "markdown",
   "metadata": {},
   "source": [
    "Visualize the German Traffic Signs Dataset using the pickled file(s). This is open ended, suggestions include: plotting traffic sign images, plotting the count of each sign, etc. \n",
    "\n",
    "The [Matplotlib](http://matplotlib.org/) [examples](http://matplotlib.org/examples/index.html) and [gallery](http://matplotlib.org/gallery.html) pages are a great resource for doing visualizations in Python.\n",
    "\n",
    "**NOTE:** It's recommended you start with something simple first. If you wish to do more, come back to it after you've completed the rest of the sections. It can be interesting to look at the distribution of classes in the training, validation and test set. Is the distribution the same? Are there more examples of some classes than others?"
   ]
  },
  {
   "cell_type": "markdown",
   "metadata": {},
   "source": []
  },
  {
   "cell_type": "code",
   "execution_count": 16,
   "metadata": {
    "collapsed": true
   },
   "outputs": [],
   "source": [
    "class_names = pd.read_csv('signnames.csv', sep=',',header=0)\n",
    "def quantity_in_datasets(y,title):\n",
    "    names = [class_names.values[i][1]for i in range(0,n_classes)]\n",
    "    names_index, names_count = np.unique(y,return_counts=True)\n",
    "    fig, ax = plt.subplots(figsize=(12,12))\n",
    "\n",
    "    ax.barh(names_index, names_count, align='center')\n",
    "    ax.set_yticks(names_index)\n",
    "    ax.set_yticklabels(names)\n",
    "    ax.invert_yaxis()\n",
    "    ax.set_xlabel('Quantity of classes in train data set')\n",
    "    ax.set_title(title)\n",
    "\n",
    "plt.show()\n",
    "# Training data\n",
    "quantity_in_datasets(y_train,'Training Data Set')\n",
    "quantity_in_datasets(y_test,'Test Data Set')"
   ]
  },
  {
   "cell_type": "code",
   "execution_count": null,
   "metadata": {
    "collapsed": true
   },
   "outputs": [],
   "source": [
    "# Random 5 Example for each class --> 43x5\n",
    "import random as rnd\n",
    "# Parameters\n",
    "cols = 5\n",
    "rows = len(np.unique(y_train))\n",
    "count = 0\n",
    "plt.figure(figsize=(10,40))\n",
    "plotting_index = []\n",
    "\n",
    "def random_index():\n",
    "    for i in range(0,rows):\n",
    "        index = np.where(y_train==i)\n",
    "        index = index[0]\n",
    "        #import pdb; pdb.set_trace()\n",
    "        plotting_row_index = np.random.choice(index,cols)\n",
    "        plotting_index.append(plotting_row_index)\n",
    "        plotting_row_index = []\n",
    "    return plotting_index\n",
    "\n",
    "index = random_index()\n",
    "\n",
    "for i in range(rows):\n",
    "    for t in range(cols):\n",
    "        count+=1\n",
    "        ii = index[i][t]\n",
    "        plt.subplot(rows,cols,count)\n",
    "        plt.imshow(X_train[ii])\n",
    "        plt.axis('off')"
   ]
  },
  {
   "cell_type": "markdown",
   "metadata": {},
   "source": [
    "----\n",
    "\n",
    "## Step 2: Design and Test a Model Architecture\n",
    "\n",
    "Design and implement a deep learning model that learns to recognize traffic signs. Train and test your model on the [German Traffic Sign Dataset](http://benchmark.ini.rub.de/?section=gtsrb&subsection=dataset).\n",
    "\n",
    "The LeNet-5 implementation shown in the [classroom](https://classroom.udacity.com/nanodegrees/nd013/parts/fbf77062-5703-404e-b60c-95b78b2f3f9e/modules/6df7ae49-c61c-4bb2-a23e-6527e69209ec/lessons/601ae704-1035-4287-8b11-e2c2716217ad/concepts/d4aca031-508f-4e0b-b493-e7b706120f81) at the end of the CNN lesson is a solid starting point. You'll have to change the number of classes and possibly the preprocessing, but aside from that it's plug and play! \n",
    "\n",
    "With the LeNet-5 solution from the lecture, you should expect a validation set accuracy of about 0.89. To meet specifications, the validation set accuracy will need to be at least 0.93. It is possible to get an even higher accuracy, but 0.93 is the minimum for a successful project submission. \n",
    "\n",
    "There are various aspects to consider when thinking about this problem:\n",
    "\n",
    "- Neural network architecture (is the network over or underfitting?)\n",
    "- Play around preprocessing techniques (normalization, rgb to grayscale, etc)\n",
    "- Number of examples per label (some have more than others).\n",
    "- Generate fake data.\n",
    "\n",
    "Here is an example of a [published baseline model on this problem](http://yann.lecun.com/exdb/publis/pdf/sermanet-ijcnn-11.pdf). It's not required to be familiar with the approach used in the paper but, it's good practice to try to read papers like these."
   ]
  },
  {
   "cell_type": "markdown",
   "metadata": {},
   "source": [
    "### Pre-process the Data Set (normalization, grayscale, etc.)"
   ]
  },
  {
   "cell_type": "markdown",
   "metadata": {},
   "source": [
    "Minimally, the image data should be normalized so that the data has mean zero and equal variance. For image data, `(pixel - 128)/ 128` is a quick way to approximately normalize the data and can be used in this project. \n",
    "\n",
    "Other pre-processing steps are optional. You can try different techniques to see if it improves performance. \n",
    "\n",
    "Use the code cell (or multiple code cells, if necessary) to implement the first step of your project."
   ]
  },
  {
   "cell_type": "code",
   "execution_count": 2,
   "metadata": {
    "collapsed": true
   },
   "outputs": [],
   "source": [
    "### Preprocess the data here. It is required to normalize the data. Other preprocessing steps could include \n",
    "### converting to grayscale, etc.\n",
    "### Feel free to use as many code cells as needed."
   ]
  },
  {
   "cell_type": "code",
   "execution_count": 17,
   "metadata": {
    "collapsed": true
   },
   "outputs": [],
   "source": [
    "\n",
    "def sharp_img(img):\n",
    "    gb = cv2.GaussianBlur(img, (3,3), 20.0)\n",
    "    return cv2.addWeighted(img, 2, gb, -1, 0)\n",
    "\n",
    "\"\"\"def transform_img(img):\n",
    "    img_in = img.copy()\n",
    "    img_out= sharp_img(img_in)\n",
    "    img_out = cv2.cvtColor(img_in, cv2.COLOR_RGB2YUV)\n",
    "\n",
    "    img_out[:,:,0] = cv2.equalizeHist(img_out[:,:,0])\n",
    "    img_out[:,:,1] = cv2.equalizeHist(img_out[:,:,1])\n",
    "    img_out[:,:,2] = cv2.equalizeHist(img_out[:,:,2])\n",
    "    return img_out[:,:,0]\"\"\"\n",
    "\n",
    "def random_scaĺing(img):\n",
    "    rows = img.shape[0]\n",
    "    cols = img.shape[1]\n",
    "    # transform limits\n",
    "    px = np.random.randint(-2,2)\n",
    "    pts1 = np.float32([[px,px],[rows-px,px],[px,cols-px],[rows-px,cols-px]])\n",
    "    pts2 = np.float32([[0,0],[rows,0],[0,cols],[rows,cols]])\n",
    "    M = cv2.getPerspectiveTransform(pts1,pts2)\n",
    "    return  cv2.warpPerspective(img,M,(rows,cols))\n",
    "\n",
    "# between -15 to 15\n",
    "def random_rotating(img):\n",
    "    rows,colomns = int(img.shape[0]/2), int(img.shape[1]/2)\n",
    "    ang = 30.0*np.random.rand()-20 \n",
    "    rotation_matrix  = cv2.getRotationMatrix2D((rows, colomns), ang, 1.0)\n",
    "    return cv2.warpAffine(img, rotation_matrix, img.shape[:2])\n",
    "\n",
    "def shear(im): # Thanks to https://medium.com/@vivek.yadav/dealing-with-unbalanced-data-generating-additional-data-by-jittering-the-original-image-7497fe2119c3\n",
    "    rows,cols = img.shape[:2]\n",
    "    shear_range = 10\n",
    "    pts1 = np.float32([[5,5],[20,5],[5,20]])\n",
    "    pt1 = 5+shear_range*np.random.uniform()-shear_range/2\n",
    "    pt2 = 20+shear_range*np.random.uniform()-shear_range/2\n",
    "    pts2 = np.float32([[pt1,5],[pt2,pt1],[5,pt2]])\n",
    "\n",
    "    shear_M = cv2.getAffineTransform(pts1,pts2)\n",
    "    return cv2.warpAffine(img,shear_M,(cols,rows))\n",
    "\n",
    "def translate(img):\n",
    "    dx, dy = np.random.randint(-2, 2, 2)\n",
    "    M = np.float32([[1, 0, dx], [0, 1, dy]])\n",
    "    dst = cv2.warpAffine(img, M, (32, 32))\n",
    "    dst = dst[:,:,None]\n",
    "    return dst\n",
    "\n",
    "def aug_image(img):\n",
    "    img = sharp_img(img)\n",
    "    #plt.title('Transformed Image')\n",
    "    #plt.imshow(img.squeeze())\n",
    "    #plt.show()\n",
    "    #img_aug = contrast(img)\n",
    "    #plt.title('Sharpened Image')\n",
    "    #plt.imshow(img.squeeze(),cmap='gray')\n",
    "    #plt.show()\n",
    "    #print(np.mean(img))\n",
    "    img = random_rotating(img)\n",
    "    #plt.title('Rotated Image')\n",
    "    #plt.imshow(img.squeeze())\n",
    "    #plt.show()\n",
    "    #print(np.mean(img))\n",
    "    img = random_scaĺing(img)\n",
    "    #plt.title('Scaled Image')\n",
    "    #plt.imshow(img.squeeze())\n",
    "    #plt.show()\n",
    "    #print(np.mean(img))\n",
    "    img = translate(img)\n",
    "    #plt.title('Translated Image')\n",
    "    #plt.imshow(img.squeeze())\n",
    "    #plt.show()\n",
    "    #print(np.mean(img))\n",
    "    img = shear(img)\n",
    "    #plt.title('Sheared Image')\n",
    "    #plt.imshow(img.squeeze())\n",
    "    #plt.show()\n",
    "    #print(np.mean(img))\n",
    "    #img_aug = roi(img_aug)\n",
    "    #img_aug = transform_img(img)\n",
    "    return img\n",
    "\n",
    "randomImg_index = rnd.randrange(X_train.shape[0])\n",
    "img=X_train[randomImg_index]\n",
    "img_aug = aug_image(img)\n",
    "#plt.title('Original Image')\n",
    "#plt.imshow(img.squeeze(),cmap='gray')\n",
    "#plt.show()\n",
    "#plt.title('Augmented Image')\n",
    "#plt.imshow(img_aug.squeeze(),cmap='gray')\n",
    "#plt.show()"
   ]
  },
  {
   "cell_type": "code",
   "execution_count": null,
   "metadata": {
    "collapsed": true
   },
   "outputs": [],
   "source": [
    "\n",
    "def convert_to_gray_and_normalize(data):\n",
    "    data_gry = np.sum(data/3, axis=3, keepdims=True)\n",
    "    data_normalized = (data_gry - 128)/128 \n",
    "\n",
    "    print(\"Original shape:\", data.shape)\n",
    "    print(\"Normalized shape:\", data_normalized.shape)\n",
    "    return data_normalized"
   ]
  },
  {
   "cell_type": "code",
   "execution_count": null,
   "metadata": {
    "collapsed": true
   },
   "outputs": [],
   "source": [
    "# Data Histogram in Trainset\n",
    "def histogram_of_datasets(y,n_classes,title):\n",
    "    names = [class_names.values[i][1]for i in range(0,n_classes)]\n",
    "    hist, bins = np.histogram(y, bins=n_classes)\n",
    "    width = 0.7 * (bins[1] - bins[0])\n",
    "    center = (bins[:-1] + bins[1:]) / 2\n",
    "    plt.bar(center, hist, align='center', width=width)\n",
    "    plt.title(title)\n",
    "    plt.show()\n",
    "    print('Minimum quantity in all classes: {}, in class {}'.format(min(hist),names[np.argmin(hist)]))\n",
    "    print('Maximum quantity in all classes: {}, in class {}'. format(max(hist),names[np.argmax(hist)]))\n",
    "    uc = [value for value in range(n_classes) if hist[value] < 1000]\n",
    "    print('{} of classes under 1000 sample'. format(len(uc)))\n",
    "\n",
    "histogram_of_datasets(y_train,n_classes,'Train Data Set')\n",
    "histogram_of_datasets(y_test,n_classes, 'Test Data Set')"
   ]
  },
  {
   "cell_type": "markdown",
   "metadata": {},
   "source": [
    "## Fake Data Adding"
   ]
  },
  {
   "cell_type": "code",
   "execution_count": null,
   "metadata": {
    "collapsed": true
   },
   "outputs": [],
   "source": [
    "# Save fake data\n",
    "def save_fake_data(X_data, y_data, fake_training_file):\n",
    "    \n",
    "    fake_data = { 'features': X_data, 'labels': y_data } \n",
    "    with open(fake_training_file, mode='wb') as f:\n",
    "        pickle.dump(fake_data, f, protocol=pickle.HIGHEST_PROTOCOL)\n"
   ]
  },
  {
   "cell_type": "code",
   "execution_count": null,
   "metadata": {
    "collapsed": true
   },
   "outputs": [],
   "source": [
    "# I tried to make fake data to prevent to be biased towards certain classes. Take a looong time despite of working on AWS GPU\n",
    "for i in range(n_classes):\n",
    "    index = np.where(y_train==i)\n",
    "    index_count = len(index[0])\n",
    "    if index_count < 1750:\n",
    "        iteration = 1750 - index_count\n",
    "        for ii in range(iteration):\n",
    "            aug_index = np.random.choice(index[0],1)\n",
    "            #print(aug_index)\n",
    "            image_aug = aug_image(X_train[aug_index].squeeze())\n",
    "            #print(image_aug)\n",
    "            X_train = np.concatenate((X_train, [image_aug]), axis=0)\n",
    "            y_train = np.concatenate((y_train, [i]), axis=0)\n",
    "\n",
    "X_train_normalized = convert_to_gray_and_normalize(X_train)\n",
    "X_test_normalized = convert_to_gray_and_normalize(X_test)            \n",
    "new_training_file = 'newtraindata.p'        \n",
    "save_fake_data(X_train_normalized, y_train, new_training_file)"
   ]
  },
  {
   "cell_type": "markdown",
   "metadata": {},
   "source": [
    "# THIS NOTEBOOK STARTS HERE"
   ]
  },
  {
   "cell_type": "code",
   "execution_count": 14,
   "metadata": {
    "collapsed": true
   },
   "outputs": [],
   "source": [
    "# Load pickled data\n",
    "import pickle\n",
    "import numpy as np\n",
    "import matplotlib.pyplot as plt\n",
    "import pandas as pd\n",
    "import random as rnd\n",
    "import cv2\n",
    "from sklearn.utils import shuffle\n",
    "from sklearn.model_selection import train_test_split\n",
    "import tensorflow as tf\n",
    "from tensorflow.contrib.layers import flatten\n",
    "%matplotlib inline\n"
   ]
  },
  {
   "cell_type": "code",
   "execution_count": null,
   "metadata": {},
   "outputs": [],
   "source": [
    "# Call Fake data\n",
    "\n",
    "training_file = ('./newtraindata.p')\n",
    "testing_file = ('./traffic-signs-data/test.p')\n",
    "\n",
    "with open(training_file, mode='rb') as f:\n",
    "    train = pickle.load(f)\n",
    "with open(testing_file, mode='rb') as f:\n",
    "    test = pickle.load(f)\n",
    "    \n",
    "X_train, y_train = train['features'], train['labels']\n",
    "X_test, y_test = test['features'], test['labels']"
   ]
  },
  {
   "cell_type": "code",
   "execution_count": null,
   "metadata": {},
   "outputs": [],
   "source": [
    "## Shuffle the training dataset and split data 0.8 training, rest Validation\n",
    "\n",
    "from sklearn.utils import shuffle\n",
    "\n",
    "X_train = convert_to_gray_and_normalize(X_train)\n",
    "X_train, y_train = shuffle(X_train, y_train)\n",
    "\n",
    "from sklearn.model_selection import train_test_split\n",
    "\n",
    "X_train, X_validation, y_train, y_validation = train_test_split(X_train, y_train, \n",
    "                                                                test_size=0.20, random_state=42)"
   ]
  },
  {
   "cell_type": "code",
   "execution_count": null,
   "metadata": {},
   "outputs": [],
   "source": [
    "class_names = pd.read_csv('signnames.csv', sep=',',header=0)\n",
    "def quantity_in_datasets(y,title):\n",
    "    names = [class_names.values[i][1]for i in range(0,n_classes)]\n",
    "    names_index, names_count = np.unique(y,return_counts=True)\n",
    "    fig, ax = plt.subplots(figsize=(12,12))\n",
    "\n",
    "    ax.barh(names_index, names_count, align='center')\n",
    "    ax.set_yticks(names_index)\n",
    "    ax.set_yticklabels(names)\n",
    "    ax.invert_yaxis()\n",
    "    ax.set_xlabel('Quantity of classes in train data set')\n",
    "    ax.set_title(title)\n",
    "\n",
    "plt.show()\n",
    "# Training data\n",
    "quantity_in_datasets(y_train,'Training Data Set')\n",
    "quantity_in_datasets(y_test,'Test Data Set')\n",
    "quantity_in_datasets(y_validation,'Validation Data Set')"
   ]
  },
  {
   "cell_type": "code",
   "execution_count": 19,
   "metadata": {},
   "outputs": [
    {
     "name": "stdout",
     "output_type": "stream",
     "text": [
      "Shapes of X and y: (41688, 32, 32, 1) (41688,)\n",
      "Data Set is ready to fed in to Models\n"
     ]
    }
   ],
   "source": [
    "print(\"Shapes of X and y:\",X_train.shape ,y_train.shape)\n",
    "print(\"Data Set is ready to fed in to Models\")"
   ]
  },
  {
   "attachments": {
    "LenetSeg.PNG": {
     "image/png": "[encoded data removed]"
    }
   },
   "cell_type": "markdown",
   "metadata": {},
   "source": [
    "### Model Architecture \n",
    "### LeNetSeg (From Paper)\n",
    "![LenetSeg.PNG](attachment:LenetSeg.PNG)"
   ]
  },
  {
   "cell_type": "code",
   "execution_count": 2,
   "metadata": {
    "collapsed": true
   },
   "outputs": [],
   "source": [
    "import tensorflow as tf\n",
    "\n",
    "EPOCHS = 50\n",
    "BATCH_SIZE = 128\n",
    "beta = 0.01"
   ]
  },
  {
   "cell_type": "code",
   "execution_count": 8,
   "metadata": {
    "collapsed": true
   },
   "outputs": [],
   "source": [
    "\n",
    "def LeNetSeg(x):    \n",
    " # Hyperparameters\n",
    "    mu = 0\n",
    "    sigma = 0.1\n",
    "    \n",
    "    # TODO: Layer 1: Convolutional. Input = 32x32x1. Output = 28x28x6.\n",
    "    W1 = tf.Variable(tf.truncated_normal(shape=(5, 5, 1, 6), mean = mu, stddev = sigma), name=\"W1\")\n",
    "    x = tf.nn.conv2d(x, W1, strides=[1, 1, 1, 1], padding='VALID')\n",
    "    b1 = tf.Variable(tf.zeros(6), name=\"b1\")\n",
    "    x = tf.nn.bias_add(x, b1)\n",
    "    print(\"layer 1 shape:\",x.get_shape())\n",
    "\n",
    "    # TODO: Activation.\n",
    "    x = tf.nn.relu(x)\n",
    "    \n",
    "    # TODO: Pooling. Input = 28x28x6. Output = 14x14x6.\n",
    "    x = tf.nn.max_pool(x, ksize=[1, 2, 2, 1], strides=[1, 2, 2, 1], padding='VALID')\n",
    "    layer1 = x\n",
    "    \n",
    "    # TODO: Layer 2: Convolutional. Output = 10x10x16.\n",
    "    W2 = tf.Variable(tf.truncated_normal(shape=(5, 5, 6, 16), mean = mu, stddev = sigma), name=\"W2\")\n",
    "    x = tf.nn.conv2d(x, W2, strides=[1, 1, 1, 1], padding='VALID')\n",
    "    b2 = tf.Variable(tf.zeros(16), name=\"b2\")\n",
    "    x = tf.nn.bias_add(x, b2)\n",
    "                     \n",
    "    # TODO: Activation.\n",
    "    x = tf.nn.relu(x)\n",
    "\n",
    "    # TODO: Pooling. Input = 10x10x16. Output = 5x5x16.\n",
    "    x = tf.nn.max_pool(x, ksize=[1, 2, 2, 1], strides=[1, 2, 2, 1], padding='VALID')\n",
    "    layer2 = x\n",
    "    \n",
    "    # TODO: Layer 3: Convolutional. Output = 1x1x400.\n",
    "    W3 = tf.Variable(tf.truncated_normal(shape=(5, 5, 16, 400), mean = mu, stddev = sigma), name=\"W3\")\n",
    "    x = tf.nn.conv2d(x, W3, strides=[1, 1, 1, 1], padding='VALID')\n",
    "    b3 = tf.Variable(tf.zeros(400), name=\"b3\")\n",
    "    x = tf.nn.bias_add(x, b3)\n",
    "                     \n",
    "    # TODO: Activation.\n",
    "    x = tf.nn.relu(x)\n",
    "    layer3 = x\n",
    "\n",
    "    # TODO: Flatten. Input = 5x5x16. Output = 400.\n",
    "    layer2flat = flatten(layer2)\n",
    "    print(\"layer2flat shape:\",layer2flat.get_shape())\n",
    "    \n",
    "    # Flatten x. Input = 1x1x400. Output = 400.\n",
    "    xflat = flatten(x)\n",
    "    print(\"xflat shape:\",xflat.get_shape())\n",
    "    \n",
    "    # Concat layer2flat and x. Input = 400 + 400. Output = 800\n",
    "    x = tf.concat_v2([xflat, layer2flat], 1)\n",
    "    print(\"x shape:\",x.get_shape())\n",
    "    \n",
    "    # Dropout\n",
    "    x = tf.nn.dropout(x, keep_prob)\n",
    "    \n",
    "    # TODO: Layer 4: Fully Connected. Input = 800. Output = 43.\n",
    "    W4 = tf.Variable(tf.truncated_normal(shape=(800, 43), mean = mu, stddev = sigma), name=\"W4\")\n",
    "    b4 = tf.Variable(tf.zeros(43), name=\"b4\")    \n",
    "    logits = tf.add(tf.matmul(x, W4), b4)\n",
    "    \n",
    "    return logits, [W4]\n",
    "# L2 Norm \n",
    "def regul_L2(weights):\n",
    "    regularizers = 0\n",
    "    for weight in weights:\n",
    "        regularizers += beta * tf.nn.l2_loss(weight)\n",
    "    return regularizers"
   ]
  },
  {
   "cell_type": "code",
   "execution_count": 9,
   "metadata": {
    "collapsed": true
   },
   "outputs": [],
   "source": [
    "x = tf.placeholder(tf.float32, (None, 32, 32, 1))\n",
    "y = tf.placeholder(tf.int32, (None))\n",
    "keep_prob = tf.placeholder(tf.float32) \n",
    "one_hot_y = tf.one_hot(y, 43)"
   ]
  },
  {
   "cell_type": "code",
   "execution_count": 10,
   "metadata": {},
   "outputs": [
    {
     "name": "stdout",
     "output_type": "stream",
     "text": [
      "layer 1 shape: (?, 28, 28, 6)\n",
      "layer2flat shape: (?, 400)\n",
      "xflat shape: (?, 400)\n",
      "x shape: (?, 800)\n"
     ]
    }
   ],
   "source": [
    "rate = 0.001\n",
    "\n",
    "logits, weights = LeNetSeg(x)\n",
    "cross_entropy = tf.nn.softmax_cross_entropy_with_logits(labels=one_hot_y, logits=logits)\n",
    "# Regular loss\n",
    "loss = tf.reduce_mean(cross_entropy)\n",
    "# L2 Loss\n",
    "reg = regul_L2(weights)\n",
    "loss_operation = tf.reduce_mean(loss + reg) # Not sure reduce_mean to all or just Regular loss\n",
    "optimizer = tf.train.AdamOptimizer(learning_rate = rate)#GradientDescentOptimizer(learning_rate = rate)\n",
    "training_operation = optimizer.minimize(loss_operation)"
   ]
  },
  {
   "cell_type": "code",
   "execution_count": 11,
   "metadata": {},
   "outputs": [],
   "source": [
    "correct_prediction = tf.equal(tf.argmax(logits, 1), tf.argmax(one_hot_y, 1))\n",
    "accuracy_operation = tf.reduce_mean(tf.cast(correct_prediction, tf.float32))\n",
    "saver = tf.train.Saver()\n",
    "\n",
    "def evaluate(X_data, y_data,drop_out):\n",
    "    num_examples = len(X_data)\n",
    "    total_accuracy = 0\n",
    "    total_loss = 0\n",
    "    sess = tf.get_default_session()\n",
    "    for offset in range(0, num_examples, BATCH_SIZE):\n",
    "        batch_x, batch_y = X_data[offset:offset+BATCH_SIZE], y_data[offset:offset+BATCH_SIZE]\n",
    "        loss_acc, accuracy = sess.run([loss_operation, accuracy_operation], feed_dict={x: batch_x, y: batch_y, keep_prob: drop_out})\n",
    "        total_accuracy += (accuracy * len(batch_x))\n",
    "        total_loss += (loss_acc * len(batch_x))\n",
    "    return total_accuracy / num_examples, total_loss / num_examples"
   ]
  },
  {
   "cell_type": "markdown",
   "metadata": {},
   "source": [
    "### Train, Validate and Test the Model"
   ]
  },
  {
   "cell_type": "markdown",
   "metadata": {},
   "source": [
    "A validation set can be used to assess how well the model is performing. A low accuracy on the training and validation\n",
    "sets imply underfitting. A high accuracy on the training set but low accuracy on the validation set implies overfitting."
   ]
  },
  {
   "cell_type": "code",
   "execution_count": 20,
   "metadata": {},
   "outputs": [
    {
     "name": "stdout",
     "output_type": "stream",
     "text": [
      "Training...\n",
      "\n",
      "EPOCH 1 ...\n",
      "Validation Accuracy = 0.853, Training Accuracy = 0.852, Validation loss = 0.944, Training loss = 0.900\n",
      "\n",
      "EPOCH 2 ...\n",
      "Validation Accuracy = 0.924, Training Accuracy = 0.955, Validation loss = 0.547, Training loss = 0.480\n",
      "\n",
      "EPOCH 3 ...\n",
      "Validation Accuracy = 0.942, Training Accuracy = 0.977, Validation loss = 0.414, Training loss = 0.318\n",
      "\n",
      "EPOCH 4 ...\n",
      "Validation Accuracy = 0.965, Training Accuracy = 0.989, Validation loss = 0.317, Training loss = 0.281\n",
      "\n",
      "EPOCH 5 ...\n",
      "Validation Accuracy = 0.964, Training Accuracy = 1.000, Validation loss = 0.282, Training loss = 0.203\n",
      "\n",
      "EPOCH 6 ...\n",
      "Validation Accuracy = 0.972, Training Accuracy = 0.989, Validation loss = 0.243, Training loss = 0.208\n",
      "\n",
      "EPOCH 7 ...\n",
      "Validation Accuracy = 0.977, Training Accuracy = 0.989, Validation loss = 0.220, Training loss = 0.167\n",
      "\n",
      "EPOCH 8 ...\n",
      "Validation Accuracy = 0.973, Training Accuracy = 0.989, Validation loss = 0.219, Training loss = 0.145\n",
      "\n",
      "EPOCH 9 ...\n",
      "Validation Accuracy = 0.980, Training Accuracy = 1.000, Validation loss = 0.194, Training loss = 0.144\n",
      "\n",
      "EPOCH 10 ...\n",
      "Validation Accuracy = 0.981, Training Accuracy = 1.000, Validation loss = 0.181, Training loss = 0.124\n",
      "\n",
      "EPOCH 11 ...\n",
      "Validation Accuracy = 0.978, Training Accuracy = 0.977, Validation loss = 0.182, Training loss = 0.154\n",
      "\n",
      "EPOCH 12 ...\n",
      "Validation Accuracy = 0.983, Training Accuracy = 1.000, Validation loss = 0.162, Training loss = 0.111\n",
      "\n",
      "EPOCH 13 ...\n",
      "Validation Accuracy = 0.984, Training Accuracy = 1.000, Validation loss = 0.157, Training loss = 0.103\n",
      "\n",
      "EPOCH 14 ...\n",
      "Validation Accuracy = 0.983, Training Accuracy = 1.000, Validation loss = 0.154, Training loss = 0.125\n",
      "\n",
      "EPOCH 15 ...\n",
      "Validation Accuracy = 0.983, Training Accuracy = 1.000, Validation loss = 0.149, Training loss = 0.104\n",
      "\n",
      "EPOCH 16 ...\n",
      "Validation Accuracy = 0.985, Training Accuracy = 1.000, Validation loss = 0.147, Training loss = 0.097\n",
      "\n",
      "EPOCH 17 ...\n",
      "Validation Accuracy = 0.984, Training Accuracy = 1.000, Validation loss = 0.141, Training loss = 0.089\n",
      "\n",
      "EPOCH 18 ...\n",
      "Validation Accuracy = 0.985, Training Accuracy = 1.000, Validation loss = 0.138, Training loss = 0.090\n",
      "\n",
      "EPOCH 19 ...\n",
      "Validation Accuracy = 0.983, Training Accuracy = 1.000, Validation loss = 0.140, Training loss = 0.087\n",
      "\n",
      "EPOCH 20 ...\n",
      "Validation Accuracy = 0.984, Training Accuracy = 1.000, Validation loss = 0.139, Training loss = 0.093\n",
      "\n",
      "EPOCH 21 ...\n",
      "Validation Accuracy = 0.986, Training Accuracy = 1.000, Validation loss = 0.128, Training loss = 0.088\n",
      "\n",
      "EPOCH 22 ...\n",
      "Validation Accuracy = 0.986, Training Accuracy = 1.000, Validation loss = 0.136, Training loss = 0.090\n",
      "\n",
      "EPOCH 23 ...\n",
      "Validation Accuracy = 0.987, Training Accuracy = 0.989, Validation loss = 0.127, Training loss = 0.091\n",
      "\n",
      "EPOCH 24 ...\n",
      "Validation Accuracy = 0.985, Training Accuracy = 1.000, Validation loss = 0.132, Training loss = 0.087\n",
      "\n",
      "EPOCH 25 ...\n",
      "Validation Accuracy = 0.986, Training Accuracy = 1.000, Validation loss = 0.130, Training loss = 0.099\n",
      "\n",
      "EPOCH 26 ...\n",
      "Validation Accuracy = 0.987, Training Accuracy = 0.989, Validation loss = 0.123, Training loss = 0.089\n",
      "\n",
      "EPOCH 27 ...\n",
      "Validation Accuracy = 0.986, Training Accuracy = 1.000, Validation loss = 0.126, Training loss = 0.079\n",
      "\n",
      "EPOCH 28 ...\n",
      "Validation Accuracy = 0.987, Training Accuracy = 1.000, Validation loss = 0.124, Training loss = 0.078\n",
      "\n",
      "EPOCH 29 ...\n",
      "Validation Accuracy = 0.983, Training Accuracy = 1.000, Validation loss = 0.132, Training loss = 0.078\n",
      "\n",
      "EPOCH 30 ...\n",
      "Validation Accuracy = 0.988, Training Accuracy = 1.000, Validation loss = 0.121, Training loss = 0.089\n",
      "\n",
      "EPOCH 31 ...\n",
      "Validation Accuracy = 0.989, Training Accuracy = 1.000, Validation loss = 0.117, Training loss = 0.072\n",
      "\n",
      "EPOCH 32 ...\n",
      "Validation Accuracy = 0.988, Training Accuracy = 1.000, Validation loss = 0.116, Training loss = 0.071\n",
      "\n",
      "EPOCH 33 ...\n",
      "Validation Accuracy = 0.988, Training Accuracy = 0.989, Validation loss = 0.113, Training loss = 0.078\n",
      "\n",
      "EPOCH 34 ...\n",
      "Validation Accuracy = 0.988, Training Accuracy = 1.000, Validation loss = 0.112, Training loss = 0.065\n",
      "\n",
      "EPOCH 35 ...\n",
      "Validation Accuracy = 0.987, Training Accuracy = 1.000, Validation loss = 0.117, Training loss = 0.070\n",
      "\n",
      "EPOCH 36 ...\n",
      "Validation Accuracy = 0.990, Training Accuracy = 1.000, Validation loss = 0.109, Training loss = 0.071\n",
      "\n",
      "EPOCH 37 ...\n",
      "Validation Accuracy = 0.989, Training Accuracy = 1.000, Validation loss = 0.106, Training loss = 0.069\n",
      "\n",
      "EPOCH 38 ...\n",
      "Validation Accuracy = 0.988, Training Accuracy = 1.000, Validation loss = 0.111, Training loss = 0.074\n",
      "\n",
      "EPOCH 39 ...\n",
      "Validation Accuracy = 0.987, Training Accuracy = 1.000, Validation loss = 0.115, Training loss = 0.067\n",
      "\n",
      "EPOCH 40 ...\n",
      "Validation Accuracy = 0.987, Training Accuracy = 1.000, Validation loss = 0.111, Training loss = 0.065\n",
      "\n",
      "EPOCH 41 ...\n",
      "Validation Accuracy = 0.990, Training Accuracy = 1.000, Validation loss = 0.105, Training loss = 0.065\n",
      "\n",
      "EPOCH 42 ...\n",
      "Validation Accuracy = 0.988, Training Accuracy = 1.000, Validation loss = 0.115, Training loss = 0.067\n",
      "\n",
      "EPOCH 43 ...\n",
      "Validation Accuracy = 0.989, Training Accuracy = 1.000, Validation loss = 0.109, Training loss = 0.067\n",
      "\n",
      "EPOCH 44 ...\n",
      "Validation Accuracy = 0.988, Training Accuracy = 1.000, Validation loss = 0.109, Training loss = 0.064\n",
      "\n",
      "EPOCH 45 ...\n",
      "Validation Accuracy = 0.989, Training Accuracy = 1.000, Validation loss = 0.105, Training loss = 0.065\n",
      "\n",
      "EPOCH 46 ...\n",
      "Validation Accuracy = 0.988, Training Accuracy = 1.000, Validation loss = 0.101, Training loss = 0.059\n",
      "\n",
      "EPOCH 47 ...\n",
      "Validation Accuracy = 0.989, Training Accuracy = 1.000, Validation loss = 0.107, Training loss = 0.057\n",
      "\n",
      "EPOCH 48 ...\n",
      "Validation Accuracy = 0.989, Training Accuracy = 1.000, Validation loss = 0.106, Training loss = 0.069\n",
      "\n",
      "EPOCH 49 ...\n",
      "Validation Accuracy = 0.988, Training Accuracy = 0.989, Validation loss = 0.113, Training loss = 0.076\n",
      "\n",
      "EPOCH 50 ...\n",
      "Validation Accuracy = 0.990, Training Accuracy = 1.000, Validation loss = 0.097, Training loss = 0.059\n",
      "\n",
      "LeNetSeg Model saved\n"
     ]
    }
   ],
   "source": [
    "# Lists for learning curve\n",
    "plot_test_accuracy=[]\n",
    "training_losses = []\n",
    "training_accuracies = []\n",
    "val_losses = []\n",
    "val_accuracies = []\n",
    "\n",
    "# Trainingsprocess\n",
    "with tf.Session() as sess:\n",
    "    sess.run(tf.global_variables_initializer())\n",
    "    num_examples = len(X_train)\n",
    "    \n",
    "    print(\"Training...\")\n",
    "    print()\n",
    "    for i in range(EPOCHS):\n",
    "        \"\"\"It is really important to shuffle train data\"\"\"\n",
    "        X_train, y_train = shuffle(X_train, y_train)\n",
    "        for offset in range(0, num_examples, BATCH_SIZE):\n",
    "            end = offset + BATCH_SIZE\n",
    "            batch_x, batch_y = X_train[offset:end], y_train[offset:end]\n",
    "            sess.run(training_operation, feed_dict={x: batch_x, y: batch_y,keep_prob:0.5})\n",
    "        \n",
    "        # training loss and accuracy after an epoch\n",
    "        tr_loss, tr_acc = sess.run([loss_operation, accuracy_operation], \n",
    "                                   feed_dict={x: batch_x, y: batch_y, keep_prob: 1.0})    \n",
    "        training_losses.append(tr_loss)\n",
    "        training_accuracies.append(tr_acc)\n",
    "        accuracy_val, loss_val = evaluate(X_validation, y_validation, 1.0)\n",
    "        val_losses.append(loss_val)\n",
    "        val_accuracies.append(accuracy_val)\n",
    "        print(\"EPOCH {} ...\".format(i+1))\n",
    "        print(\"Validation Accuracy = {:.3f}, Training Accuracy = {:.3f}, Validation loss = {:.3f}, Training loss = {:.3f}\".format(accuracy_val,tr_acc,loss_val,tr_loss))\n",
    "        print()\n",
    "    save_file = 'LeNetSeg'   \n",
    "    saver.save(sess, save_file)\n",
    "    print(\"LeNetSeg Model saved\")"
   ]
  },
  {
   "cell_type": "code",
   "execution_count": 33,
   "metadata": {},
   "outputs": [
    {
     "data": {
      "image/png": "[encoded data removed]",
      "text/plain": [
       "<matplotlib.figure.Figure at 0x7f269d316860>"
      ]
     },
     "metadata": {},
     "output_type": "display_data"
    }
   ],
   "source": [
    "def learning_curves(training_losses, training_accuracies, val_losses, val_accuracies,save):\n",
    "\n",
    "    epochs = np.arange(len(training_losses))\n",
    "    plt.subplot(2, 1, 1)\n",
    "    plt.plot(epochs, training_losses, linewidth=2.0, label='training')\n",
    "    plt.plot(epochs, val_losses, linewidth=2.0, label='validation')\n",
    "\n",
    "    plt.xlabel('epoch')\n",
    "    plt.ylabel('loss')\n",
    "    plt.legend()\n",
    "\n",
    "    plt.subplot(2, 1, 2)\n",
    "    plt.plot(epochs, training_accuracies, linewidth=2.0, label='training')\n",
    "    plt.plot(epochs, val_accuracies, linewidth=2.0, label='validation')\n",
    "\n",
    "    plt.xlabel('epoch')\n",
    "    plt.ylabel('accuracy')\n",
    "    plt.legend()\n",
    "\n",
    "    plt.savefig(save)\n",
    "    plt.show()\n",
    "learning_curves(training_losses, training_accuracies, val_losses, val_accuracies, save ='learning_curves_LeNetSeg.jpg')"
   ]
  },
  {
   "cell_type": "code",
   "execution_count": 21,
   "metadata": {},
   "outputs": [
    {
     "name": "stdout",
     "output_type": "stream",
     "text": [
      "Test Accuracy LeNetSeg = 0.951\n"
     ]
    }
   ],
   "source": [
    "with tf.Session() as sess:\n",
    "    sess.run(tf.global_variables_initializer())\n",
    "    saver2 = tf.train.import_meta_graph('./LeNetSeg.meta')\n",
    "    saver2.restore(sess, \"./LeNetSeg\")\n",
    "    test_accuracy,test_loss = evaluate(X_test, y_test,1.0)\n",
    "    plot_test_accuracy.append(test_accuracy) \n",
    "    print(\"Test Accuracy LeNetSeg = {:.3f}\".format(test_accuracy))"
   ]
  },
  {
   "cell_type": "markdown",
   "metadata": {},
   "source": [
    "With Mean for weights 0.01 decreased my Test Set accuracy.(If i choose more epoch, I believe it will increase again) That's why iI tuned that in 0.1. Epoch and batch and learning rate was randomly choosed at first "
   ]
  },
  {
   "cell_type": "markdown",
   "metadata": {},
   "source": [
    "### Load and Output the Images"
   ]
  },
  {
   "cell_type": "code",
   "execution_count": 22,
   "metadata": {},
   "outputs": [
    {
     "data": {
      "image/png": "[encoded data removed]",
      "text/plain": [
       "<matplotlib.figure.Figure at 0x7f260f5710b8>"
      ]
     },
     "metadata": {},
     "output_type": "display_data"
    },
    {
     "data": {
      "image/png": "[encoded data removed]",
      "text/plain": [
       "<matplotlib.figure.Figure at 0x7f260410ada0>"
      ]
     },
     "metadata": {},
     "output_type": "display_data"
    },
    {
     "data": {
      "image/png": "[encoded data removed]",
      "text/plain": [
       "<matplotlib.figure.Figure at 0x7f2604078208>"
      ]
     },
     "metadata": {},
     "output_type": "display_data"
    },
    {
     "data": {
      "image/png": "[encoded data removed]",
      "text/plain": [
       "<matplotlib.figure.Figure at 0x7f2604111eb8>"
      ]
     },
     "metadata": {},
     "output_type": "display_data"
    },
    {
     "data": {
      "image/png": "[encoded data removed]",
      "text/plain": [
       "<matplotlib.figure.Figure at 0x7f25fffa6c50>"
      ]
     },
     "metadata": {},
     "output_type": "display_data"
    },
    {
     "name": "stdout",
     "output_type": "stream",
     "text": [
      "Original shape: (5, 32, 32, 3)\n",
      "Normalized shape: (5, 32, 32, 1)\n",
      "(5, 32, 32, 1)\n"
     ]
    }
   ],
   "source": [
    "#Load new images for testing the model\n",
    "import cv2\n",
    "import os\n",
    "import matplotlib.image as mpimg\n",
    "import numpy as np\n",
    "path = \"testdata/\"\n",
    "new_pics = os.listdir(path)\n",
    "new_pics.remove('.ipynb_checkpoints')\n",
    "\n",
    "# Image resize--> 32x32, and preprocessing; grayscale and then normalization\n",
    "new_pics_data = []\n",
    "for i in new_pics:\n",
    "    i = path + i\n",
    "    image = mpimg.imread(i)\n",
    "    resized_image = cv2.resize(image, (32, 32)) \n",
    "    new_pics_data.append(resized_image)\n",
    "    plt.imshow(resized_image)\n",
    "    plt.show()\n",
    "new_pics_data = np.array(new_pics_data)\n",
    "test_data = convert_to_grayandNormalize(new_pics_data)\n",
    "print(test_data.shape)\n",
    "test_label = [4,23,1,14,12]\n",
    "test_label = np.array(test_label)"
   ]
  },
  {
   "cell_type": "markdown",
   "metadata": {},
   "source": [
    "### Predict the Sign Type for Each Image"
   ]
  },
  {
   "cell_type": "code",
   "execution_count": 23,
   "metadata": {},
   "outputs": [
    {
     "name": "stdout",
     "output_type": "stream",
     "text": [
      "Test Set with new images Accuracy = 0.400\n"
     ]
    }
   ],
   "source": [
    "### Run the predictions here and use the model to output the prediction for each image.\n",
    "### Make sure to pre-process the images with the same pre-processing pipeline used earlier.\n",
    "### Feel free to use as many code cells as needed.\n",
    "\n",
    "with tf.Session() as sess:\n",
    "    sess.run(tf.global_variables_initializer())\n",
    "    saver_predict = tf.train.import_meta_graph('./LeNetSeg.meta')\n",
    "    saver_predict.restore(sess, \"./LeNetSeg\")\n",
    "    my_accuracy,my_loss = evaluate(test_data, test_label, 1.0)\n",
    "    print(\"Test Set with new images Accuracy = {:.3f}\".format(my_accuracy))"
   ]
  },
  {
   "cell_type": "markdown",
   "metadata": {},
   "source": [
    "### Analyze Performance"
   ]
  },
  {
   "cell_type": "code",
   "execution_count": 24,
   "metadata": {},
   "outputs": [],
   "source": [
    "### Calculate the accuracy for these 5 new images. \n",
    "### For example, if the model predicted 1 out of 5 signs correctly, it's 20% accurate on these new images.\n",
    "softmax_operation = tf.nn.softmax(logits)\n",
    "top_k = 5\n",
    "\n",
    "with tf.Session() as sess:\n",
    "    sess.run(tf.global_variables_initializer())\n",
    "    saver_topmax = tf.train.import_meta_graph('./LeNetSeg.meta')\n",
    "    saver_topmax.restore(sess, \"./LeNetSeg\")\n",
    "    softmax_output = sess.run(softmax_operation,\n",
    "                              feed_dict={x: test_data,\n",
    "                                         y: test_label,\n",
    "                                         keep_prob: 1.0})\n",
    "\n",
    "with tf.Session() as sess:\n",
    "    top_k_probs = sess.run(tf.nn.top_k(tf.constant(softmax_output), k=top_k))\n"
   ]
  },
  {
   "cell_type": "code",
   "execution_count": 32,
   "metadata": {},
   "outputs": [
    {
     "name": "stdout",
     "output_type": "stream",
     "text": [
      "Image Number is: 1\n",
      "probabilities:  [ 0.51858795  0.44156149  0.0206694   0.01322665  0.00523245]\n",
      "predicted classes: [ 3 11 21 27  1]\n",
      "actual class:  4\n",
      "Image Number is: 2\n",
      "probabilities:  [  9.99980569e-01   1.87100068e-05   6.69857911e-07   2.16223373e-09\n",
      "   1.91023369e-12]\n",
      "predicted classes: [23 19 30 20 37]\n",
      "actual class:  23\n",
      "Image Number is: 3\n",
      "probabilities:  [  8.98222148e-01   1.01691611e-01   3.63145045e-05   2.22620674e-05\n",
      "   1.78950686e-05]\n",
      "predicted classes: [29  1  2 38 31]\n",
      "actual class:  1\n",
      "Image Number is: 4\n",
      "probabilities:  [  9.95508432e-01   1.91708817e-03   1.86242617e-03   2.47338990e-04\n",
      "   1.20813151e-04]\n",
      "predicted classes: [14 34  3 15 40]\n",
      "actual class:  14\n",
      "Image Number is: 5\n",
      "probabilities:  [ 0.32189113  0.1967257   0.18370055  0.06708592  0.04476126]\n",
      "predicted classes: [34 19 38 36 12]\n",
      "actual class:  12\n"
     ]
    }
   ],
   "source": [
    "for i in range(len(top_k_probs[0])):\n",
    "    print('Image Number is:', i+1)\n",
    "    print('probabilities: ', top_k_probs[0][i])\n",
    "    print('predicted classes:', top_k_probs[1][i])\n",
    "    print('actual class: ',test_label[i])"
   ]
  },
  {
   "cell_type": "markdown",
   "metadata": {},
   "source": [
    "### Output Top 5 Softmax Probabilities For Each Image Found on the Web"
   ]
  },
  {
   "cell_type": "markdown",
   "metadata": {},
   "source": [
    "For each of the new images, print out the model's softmax probabilities to show the **certainty** of the model's predictions (limit the output to the top 5 probabilities for each image). [`tf.nn.top_k`](https://www.tensorflow.org/versions/r0.12/api_docs/python/nn.html#top_k) could prove helpful here. \n",
    "\n",
    "The example below demonstrates how tf.nn.top_k can be used to find the top k predictions for each image.\n",
    "\n",
    "`tf.nn.top_k` will return the values and indices (class ids) of the top k predictions. So if k=3, for each sign, it'll return the 3 largest probabilities (out of a possible 43) and the correspoding class ids.\n",
    "\n",
    "Take this numpy array as an example. The values in the array represent predictions. The array contains softmax probabilities for five candidate images with six possible classes. `tf.nn.top_k` is used to choose the three classes with the highest probability:\n",
    "\n",
    "```\n",
    "# (5, 6) array\n",
    "a = np.array([[ 0.24879643,  0.07032244,  0.12641572,  0.34763842,  0.07893497,\n",
    "         0.12789202],\n",
    "       [ 0.28086119,  0.27569815,  0.08594638,  0.0178669 ,  0.18063401,\n",
    "         0.15899337],\n",
    "       [ 0.26076848,  0.23664738,  0.08020603,  0.07001922,  0.1134371 ,\n",
    "         0.23892179],\n",
    "       [ 0.11943333,  0.29198961,  0.02605103,  0.26234032,  0.1351348 ,\n",
    "         0.16505091],\n",
    "       [ 0.09561176,  0.34396535,  0.0643941 ,  0.16240774,  0.24206137,\n",
    "         0.09155967]])\n",
    "```\n",
    "\n",
    "Running it through `sess.run(tf.nn.top_k(tf.constant(a), k=3))` produces:\n",
    "\n",
    "```\n",
    "TopKV2(values=array([[ 0.34763842,  0.24879643,  0.12789202],\n",
    "       [ 0.28086119,  0.27569815,  0.18063401],\n",
    "       [ 0.26076848,  0.23892179,  0.23664738],\n",
    "       [ 0.29198961,  0.26234032,  0.16505091],\n",
    "       [ 0.34396535,  0.24206137,  0.16240774]]), indices=array([[3, 0, 5],\n",
    "       [0, 1, 4],\n",
    "       [0, 5, 1],\n",
    "       [1, 3, 5],\n",
    "       [1, 4, 3]], dtype=int32))\n",
    "```\n",
    "\n",
    "Looking just at the first row we get `[ 0.34763842,  0.24879643,  0.12789202]`, you can confirm these are the 3 largest probabilities in `a`. You'll also notice `[3, 0, 5]` are the corresponding indices."
   ]
  },
  {
   "cell_type": "markdown",
   "metadata": {},
   "source": [
    "### Project Writeup\n",
    "\n",
    "Once you have completed the code implementation, document your results in a project writeup using this [template](https://github.com/udacity/CarND-Traffic-Sign-Classifier-Project/blob/master/writeup_template.md) as a guide. The writeup can be in a markdown or pdf file. "
   ]
  },
  {
   "cell_type": "markdown",
   "metadata": {},
   "source": [
    "> **Note**: Once you have completed all of the code implementations and successfully answered each question above, you may finalize your work by exporting the iPython Notebook as an HTML document. You can do this by using the menu above and navigating to  \\n\",\n",
    "    \"**File -> Download as -> HTML (.html)**. Include the finished document along with this notebook as your submission."
   ]
  },
  {
   "cell_type": "markdown",
   "metadata": {},
   "source": [
    "---\n",
    "\n",
    "## Step 4 (Optional): Visualize the Neural Network's State with Test Images\n",
    "\n",
    " This Section is not required to complete but acts as an additional excersise for understaning the output of a neural network's weights. While neural networks can be a great learning device they are often referred to as a black box. We can understand what the weights of a neural network look like better by plotting their feature maps. After successfully training your neural network you can see what it's feature maps look like by plotting the output of the network's weight layers in response to a test stimuli image. From these plotted feature maps, it's possible to see what characteristics of an image the network finds interesting. For a sign, maybe the inner network feature maps react with high activation to the sign's boundary outline or to the contrast in the sign's painted symbol.\n",
    "\n",
    " Provided for you below is the function code that allows you to get the visualization output of any tensorflow weight layer you want. The inputs to the function should be a stimuli image, one used during training or a new one you provided, and then the tensorflow variable name that represents the layer's state during the training process, for instance if you wanted to see what the [LeNet lab's](https://classroom.udacity.com/nanodegrees/nd013/parts/fbf77062-5703-404e-b60c-95b78b2f3f9e/modules/6df7ae49-c61c-4bb2-a23e-6527e69209ec/lessons/601ae704-1035-4287-8b11-e2c2716217ad/concepts/d4aca031-508f-4e0b-b493-e7b706120f81) feature maps looked like for it's second convolutional layer you could enter conv2 as the tf_activation variable.\n",
    "\n",
    "For an example of what feature map outputs look like, check out NVIDIA's results in their paper [End-to-End Deep Learning for Self-Driving Cars](https://devblogs.nvidia.com/parallelforall/deep-learning-self-driving-cars/) in the section Visualization of internal CNN State. NVIDIA was able to show that their network's inner weights had high activations to road boundary lines by comparing feature maps from an image with a clear path to one without. Try experimenting with a similar test to show that your trained network's weights are looking for interesting features, whether it's looking at differences in feature maps from images with or without a sign, or even what feature maps look like in a trained network vs a completely untrained one on the same sign image.\n",
    "\n",
    "<figure>\n",
    " <img src=\"visualize_cnn.png\" width=\"380\" alt=\"Combined Image\" />\n",
    " <figcaption>\n",
    " <p></p> \n",
    " <p style=\"text-align: center;\"> Your output should look something like this (above)</p> \n",
    " </figcaption>\n",
    "</figure>\n",
    " <p></p> \n"
   ]
  },
  {
   "cell_type": "code",
   "execution_count": null,
   "metadata": {
    "collapsed": true
   },
   "outputs": [],
   "source": [
    "### Visualize your network's feature maps here.\n",
    "### Feel free to use as many code cells as needed.\n",
    "\n",
    "# image_input: the test image being fed into the network to produce the feature maps\n",
    "# tf_activation: should be a tf variable name used during your training procedure that represents the calculated state of a specific weight layer\n",
    "# activation_min/max: can be used to view the activation contrast in more detail, by default matplot sets min and max to the actual min and max values of the output\n",
    "# plt_num: used to plot out multiple different weight feature map sets on the same block, just extend the plt number for each new feature map entry\n",
    "\n",
    "def outputFeatureMap(image_input, tf_activation, activation_min=-1, activation_max=-1 ,plt_num=1):\n",
    "    # Here make sure to preprocess your image_input in a way your network expects\n",
    "    # with size, normalization, ect if needed\n",
    "    # image_input =\n",
    "    # Note: x should be the same name as your network's tensorflow data placeholder variable\n",
    "    # If you get an error tf_activation is not defined it may be having trouble accessing the variable from inside a function\n",
    "    activation = tf_activation.eval(session=sess,feed_dict={x : image_input})\n",
    "    featuremaps = activation.shape[3]\n",
    "    plt.figure(plt_num, figsize=(15,15))\n",
    "    for featuremap in range(featuremaps):\n",
    "        plt.subplot(6,8, featuremap+1) # sets the number of feature maps to show on each row and column\n",
    "        plt.title('FeatureMap ' + str(featuremap)) # displays the feature map number\n",
    "        if activation_min != -1 & activation_max != -1:\n",
    "            plt.imshow(activation[0,:,:, featuremap], interpolation=\"nearest\", vmin =activation_min, vmax=activation_max, cmap=\"gray\")\n",
    "        elif activation_max != -1:\n",
    "            plt.imshow(activation[0,:,:, featuremap], interpolation=\"nearest\", vmax=activation_max, cmap=\"gray\")\n",
    "        elif activation_min !=-1:\n",
    "            plt.imshow(activation[0,:,:, featuremap], interpolation=\"nearest\", vmin=activation_min, cmap=\"gray\")\n",
    "        else:\n",
    "            plt.imshow(activation[0,:,:, featuremap], interpolation=\"nearest\", cmap=\"gray\")"
   ]
  }
 ],
 "metadata": {
  "anaconda-cloud": {},
  "kernelspec": {
   "display_name": "Python 3",
   "language": "python",
   "name": "python3"
  },
  "language_info": {
   "codemirror_mode": {
    "name": "ipython",
    "version": 3
   },
   "file_extension": ".py",
   "mimetype": "text/x-python",
   "name": "python",
   "nbconvert_exporter": "python",
   "pygments_lexer": "ipython3",
   "version": "3.5.2"
  },
  "widgets": {
   "state": {},
   "version": "1.1.2"
  }
 },
 "nbformat": 4,
 "nbformat_minor": 1
}
